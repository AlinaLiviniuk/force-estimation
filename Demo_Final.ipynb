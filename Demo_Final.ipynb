{
 "cells": [
  {
   "cell_type": "code",
   "execution_count": 1,
   "metadata": {},
   "outputs": [],
   "source": [
    "# Examples of the math.sin() and math.cos() trig functions\n",
    "# Al Sweigart al@inventwithpython.com\n",
    "\n",
    "# You can learn more about Pygame with the\n",
    "# free book \"Making Games with Python & Pygame\"\n",
    "#\n",
    "# http://inventwithpython.com/pygame\n",
    "#\n",
    "\n",
    "import sys, pygame, math\n",
    "from pygame.locals import *\n",
    "import time\n",
    "import random\n",
    "\n",
    "# set up a bunch of constants\n",
    "BLUE       = (  0,   0, 255)\n",
    "WHITE      = (255, 255, 255)\n",
    "DARKRED    = (128,   0,   0)\n",
    "DARKBLUE   = (  0,   0, 128)\n",
    "RED        = (255,   0,   0)\n",
    "GREEN      = (  0, 255,   0)\n",
    "DARKGREEN  = (  0, 128,   0)\n",
    "YELLOW     = (255, 255,   0)\n",
    "DARKYELLOW = (128, 128,   0)\n",
    "BLACK      = (  0,   0,   0)\n",
    "\n",
    "BGCOLOR = WHITE\n",
    "\n",
    "WINDOWWIDTH = 640 # width of the program's window, in pixels\n",
    "WINDOWHEIGHT = 480 # height in pixels\n",
    "WIN_CENTERX = int(WINDOWWIDTH / 2) # the midpoint for the width of the window\n",
    "WIN_CENTERY = int(WINDOWHEIGHT / 2) # the midpoint for the height of the window\n",
    "\n",
    "FPS = 160 # frames per second to run at\n",
    "\n",
    "AMPLITUDE = 100 # how many pixels tall the waves with rise/fall.\n",
    "\n",
    "# variables that track visibility modes\n",
    "showSine = True\n",
    "pause = False\n",
    "\n",
    "yPos_list = []\n",
    "xPos_list = []\n",
    "xPos = 0\n",
    "yPos = 0\n",
    "step = 0 # the current input f\n",
    "#posRecord = {'sin': [], 'cos': [], 'hiampsin': [], 'hifreqsin': []} # keeps track of the ball positions for drawing the waves\n",
    "posRecord = {'sin': []}\n",
    "\n",
    "CURRENT_TIME = 0\n",
    "MAXWIDTH = int(WINDOWWIDTH * 0.8)\n",
    "\n",
    "def start():\n",
    "    global FPSCLOCK, DISPLAYSURF, fontObj, sinLabelSurf, sinLabelRect, instructionsSurf, instructionsRect\n",
    "    # standard pygame setup code\n",
    "    pygame.init()\n",
    "    FPSCLOCK = pygame.time.Clock()\n",
    "    DISPLAYSURF = pygame.display.set_mode((WINDOWWIDTH, WINDOWHEIGHT))\n",
    "    pygame.display.set_caption('Grip Force Estimation')\n",
    "    fontObj = pygame.font.Font('freesansbold.ttf', 16)\n",
    "    \n",
    "    # making text Surface and Rect objects for various labels\n",
    "    sinLabelSurf = fontObj.render('Force', True, BLACK, BGCOLOR)\n",
    "    \n",
    "    sinLabelRect = sinLabelSurf.get_rect()\n",
    "    \n",
    "    instructionsSurf = fontObj.render('', True, BLACK, BGCOLOR)\n",
    "    instructionsRect = instructionsSurf.get_rect()\n",
    "    instructionsRect.left = 10\n",
    "    instructionsRect.bottom = WINDOWHEIGHT - 10\n",
    "\n",
    "    global CURRENT_TIME, MAXWIDTH\n",
    "    CURRENT_TIME = 0\n",
    "    MAXWIDTH = int(WINDOWWIDTH * 0.8)\n",
    "    \n",
    "# main application loop\n",
    "def plot(dt, y):\n",
    "    global posRecord, step, xPos, CURRENT_TIME\n",
    "    CURRENT_TIME += dt\n",
    "#while True:\n",
    "    # event handling loop for quit events\n",
    "    for event in pygame.event.get():\n",
    "        if event.type == QUIT or (event.type == KEYUP and event.key == K_ESCAPE):\n",
    "            pygame.quit()\n",
    "            sys.exit()\n",
    "\n",
    "    # fill the screen to draw from a blank state\n",
    "    DISPLAYSURF.fill(BGCOLOR)\n",
    "\n",
    "    # draw instructions\n",
    "    DISPLAYSURF.blit(instructionsSurf, instructionsRect)\n",
    "\n",
    "    # draw the horizontal middle line and the amplitude lines\n",
    "    pygame.draw.line(DISPLAYSURF, BLACK, (0, WIN_CENTERY), (WINDOWWIDTH, WIN_CENTERY))\n",
    "    pygame.draw.line(DISPLAYSURF, BLACK, (0, WIN_CENTERY + AMPLITUDE), (WINDOWWIDTH, WIN_CENTERY + AMPLITUDE))\n",
    "    pygame.draw.line(DISPLAYSURF, BLACK, (0, WIN_CENTERY - AMPLITUDE), (WINDOWWIDTH, WIN_CENTERY - AMPLITUDE))\n",
    "    \n",
    "    #pygame.draw.line(DISPLAYSURF, RED, [ int(i * 5), int(yPos_list[j-1]) + WIN_CENTERY ], [ int((i + 1) * 5), int(yPos_list[j]) + WIN_CENTERY ], 2)\n",
    "\n",
    "    # new point\n",
    "    xPos += dt\n",
    "    yPos = y\n",
    "    xPos_list.append(xPos)\n",
    "    yPos_list.append(yPos)\n",
    "    \n",
    "    #posRecord['sin'].append((int(xPos), int(yPos) + WIN_CENTERY))\n",
    "    \n",
    "    # draw the ball and label\n",
    "    pygame.draw.circle(DISPLAYSURF, BLUE, (int(xPos + MAXWIDTH - CURRENT_TIME), int(yPos) + WIN_CENTERY), 5)\n",
    "    #sinLabelRect.center = (int(xPos + MAXWIDTH - CURRENT_TIME), int(yPos) + WIN_CENTERY + 20)\n",
    "    #DISPLAYSURF.blit(sinLabelSurf, sinLabelRect)\n",
    "   \n",
    "    # draw the waves from the previously recorded ball positions\n",
    "    \n",
    "    #for x, y in posRecord['sin']:\n",
    "    #    pygame.draw.circle(DISPLAYSURF, BLUE, (x, y), 4)\n",
    "\n",
    "    n_pop = 0\n",
    "    for i in range(len(xPos_list)):\n",
    "        x_ = int(xPos_list[i] + MAXWIDTH - CURRENT_TIME)\n",
    "        y_ = int(yPos_list[i])\n",
    "        if x_ < 0:\n",
    "            n_pop = i\n",
    "        else:\n",
    "            #pygame.draw.circle(DISPLAYSURF, BLUE, (x_, y_ + WIN_CENTERY), 2)\n",
    "            # previous x,y\n",
    "            if i != len(xPos_list) - 1:\n",
    "                x_p = xPos_list[i + 1] + MAXWIDTH - CURRENT_TIME\n",
    "                y_p = yPos_list[i + 1]\n",
    "                pygame.draw.line(DISPLAYSURF, BLUE, [int(x_), int(y_) + WIN_CENTERY], [int(x_p), int(y_p) + WIN_CENTERY], 2)\n",
    "    for i in range(n_pop):\n",
    "        xPos_list.pop(0)\n",
    "        yPos_list.pop(0)\n",
    "\n",
    "\n",
    "    # draw the border\n",
    "    pygame.draw.rect(DISPLAYSURF, BLACK, (0, 0, WINDOWWIDTH, WINDOWHEIGHT), 1)\n",
    "\n",
    "    pygame.display.update()\n",
    "    FPSCLOCK.tick(FPS)"
   ]
  },
  {
   "cell_type": "code",
   "execution_count": 2,
   "metadata": {},
   "outputs": [],
   "source": [
    "start()"
   ]
  },
  {
   "cell_type": "code",
   "execution_count": 3,
   "metadata": {},
   "outputs": [
    {
     "ename": "SystemExit",
     "evalue": "",
     "output_type": "error",
     "traceback": [
      "An exception has occurred, use %tb to see the full traceback.\n",
      "\u001b[0;31mSystemExit\u001b[0m\n"
     ]
    },
    {
     "name": "stderr",
     "output_type": "stream",
     "text": [
      "/home/user/anaconda3/lib/python3.6/site-packages/IPython/core/interactiveshell.py:2870: UserWarning: To exit: use 'exit', 'quit', or Ctrl-D.\n",
      "  warn(\"To exit: use 'exit', 'quit', or Ctrl-D.\", stacklevel=1)\n"
     ]
    }
   ],
   "source": [
    "k = 0\n",
    "for i in range(1000):\n",
    "    k += random.randint(-5,5)\n",
    "    dt = random.random() / 10.\n",
    "    plot(dt * 50, k)\n",
    "    time.sleep(dt)"
   ]
  },
  {
   "cell_type": "code",
   "execution_count": 10,
   "metadata": {},
   "outputs": [
    {
     "data": {
      "text/plain": [
       "[50, 50, 50, 50, 50, 50, 50]"
      ]
     },
     "execution_count": 10,
     "metadata": {},
     "output_type": "execute_result"
    }
   ],
   "source": [
    "yPos_list"
   ]
  },
  {
   "cell_type": "code",
   "execution_count": null,
   "metadata": {
    "collapsed": true,
    "scrolled": true
   },
   "outputs": [],
   "source": [
    "while True:\n",
    "    a = random.random()\n",
    "    print(a)\n",
    "    dt = random.random()\n",
    "    time.sleep(dt)"
   ]
  },
  {
   "cell_type": "code",
   "execution_count": null,
   "metadata": {
    "collapsed": true
   },
   "outputs": [],
   "source": [
    "while True:\n",
    "    a = random.random()\n",
    "    print(a)\n",
    "    dt = random.random()\n",
    "    time.sleep(dt)"
   ]
  },
  {
   "cell_type": "code",
   "execution_count": null,
   "metadata": {
    "collapsed": true
   },
   "outputs": [],
   "source": []
  },
  {
   "cell_type": "code",
   "execution_count": null,
   "metadata": {
    "collapsed": true
   },
   "outputs": [],
   "source": []
  }
 ],
 "metadata": {
  "kernelspec": {
   "display_name": "Python 3",
   "language": "python",
   "name": "python3"
  },
  "language_info": {
   "codemirror_mode": {
    "name": "ipython",
    "version": 3
   },
   "file_extension": ".py",
   "mimetype": "text/x-python",
   "name": "python",
   "nbconvert_exporter": "python",
   "pygments_lexer": "ipython3",
   "version": "3.6.3"
  }
 },
 "nbformat": 4,
 "nbformat_minor": 2
}
